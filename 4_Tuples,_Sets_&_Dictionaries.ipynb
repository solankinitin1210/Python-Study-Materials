{
  "nbformat": 4,
  "nbformat_minor": 0,
  "metadata": {
    "kernelspec": {
      "display_name": "Python 3",
      "language": "python",
      "name": "python3"
    },
    "language_info": {
      "codemirror_mode": {
        "name": "ipython",
        "version": 3
      },
      "file_extension": ".py",
      "mimetype": "text/x-python",
      "name": "python",
      "nbconvert_exporter": "python",
      "pygments_lexer": "ipython3",
      "version": "3.7.4"
    },
    "colab": {
      "provenance": [],
      "collapsed_sections": [
        "v_Dz0Rf8x2wZ",
        "6NaL3DU1x2w1",
        "INOUJ-IJx2w1",
        "6MHUetrLx2w6",
        "o_B-5yhsx2w-",
        "FY0pToLax2xO",
        "yMYuf2Hvx2xV",
        "YMD--2K9x2xe",
        "McnlvCvFx2x4",
        "Y579P1fwx2yN",
        "Ehae_5psx2yT",
        "J78K33lKx2yh",
        "-imPGLIHx2ym",
        "nJm-OfZDx2yq",
        "syQXm4jBx2yx",
        "J44Z9VfMx2y9",
        "uL7e7NDox2y9",
        "tUaGyAtdx2y_",
        "_nSqsOiax2zB",
        "WsRmOWzVx2zG",
        "KdEUV4J3x2zT",
        "Rnlnm59rx2zi",
        "IC5NCQkmx2zl",
        "M2AfPxHSx2zp"
      ],
      "include_colab_link": true
    }
  },
  "cells": [
    {
      "cell_type": "markdown",
      "metadata": {
        "id": "view-in-github",
        "colab_type": "text"
      },
      "source": [
        "<a href=\"https://colab.research.google.com/github/solankinitin1210/Python-Study-Materials/blob/main/4_Tuples%2C_Sets_%26_Dictionaries.ipynb\" target=\"_parent\"><img src=\"https://colab.research.google.com/assets/colab-badge.svg\" alt=\"Open In Colab\"/></a>"
      ]
    },
    {
      "cell_type": "markdown",
      "metadata": {
        "id": "XyN6An5ux2v8"
      },
      "source": [
        "# Tuples\n",
        "\n",
        "* In Python tuples are very similar to lists, however, unlike lists they are *immutable* meaning they can not be changed.\n",
        "\n",
        "\n",
        "* You would use tuples to present things that shouldn't be changed, such as days of the week, or dates on a calendar.\n",
        "\n",
        "\n",
        "* You'll have an intuition of how to use tuples based on what you've learned about lists. We can treat them very similarly with the <u>major distinction being that tuples are immutable</u>.\n",
        "\n",
        "\n",
        "## Constructing Tuples\n",
        "\n",
        "* The construction of a tuples use <code>()</code> with elements separated by commas."
      ]
    },
    {
      "cell_type": "code",
      "metadata": {
        "id": "v6uqrGdAx2v-"
      },
      "source": [
        "# Create a tuple\n",
        "my_tuple = (1,'a',3)"
      ],
      "execution_count": null,
      "outputs": []
    },
    {
      "cell_type": "code",
      "metadata": {
        "id": "AJWmfPGsx2wC",
        "colab": {
          "base_uri": "https://localhost:8080/"
        },
        "outputId": "ef118229-30d2-44f0-e852-75ecc208396f"
      },
      "source": [
        "print(my_tuple)"
      ],
      "execution_count": null,
      "outputs": [
        {
          "output_type": "stream",
          "text": [
            "(1, 'a', 3)\n"
          ],
          "name": "stdout"
        }
      ]
    },
    {
      "cell_type": "code",
      "metadata": {
        "colab": {
          "base_uri": "https://localhost:8080/"
        },
        "id": "fxgESNwMThmv",
        "outputId": "6fb94315-cf1e-40ff-a298-e1954b97b7da"
      },
      "source": [
        "type(my_tuple)"
      ],
      "execution_count": null,
      "outputs": [
        {
          "output_type": "execute_result",
          "data": {
            "text/plain": [
              "tuple"
            ]
          },
          "metadata": {
            "tags": []
          },
          "execution_count": 3
        }
      ]
    },
    {
      "cell_type": "code",
      "metadata": {
        "id": "6Q1TOAyNx2wG",
        "colab": {
          "base_uri": "https://localhost:8080/"
        },
        "outputId": "d661113a-6833-4d23-d11b-f8e7f01b3173"
      },
      "source": [
        "# Can also mix object types\n",
        "another_tuple = ('one',2, 4.53, 'asbc')\n",
        "\n",
        "# Show\n",
        "another_tuple"
      ],
      "execution_count": null,
      "outputs": [
        {
          "output_type": "execute_result",
          "data": {
            "text/plain": [
              "('one', 2, 4.53, 'asbc')"
            ]
          },
          "metadata": {
            "tags": []
          },
          "execution_count": 4
        }
      ]
    },
    {
      "cell_type": "code",
      "metadata": {
        "id": "rdMQ9x4lwN3f"
      },
      "source": [
        "my_list = [1]"
      ],
      "execution_count": null,
      "outputs": []
    },
    {
      "cell_type": "code",
      "metadata": {
        "id": "N_mlfU7FwOnX",
        "colab": {
          "base_uri": "https://localhost:8080/"
        },
        "outputId": "6117d8cf-4304-4261-a893-83abac44c008"
      },
      "source": [
        "type(my_list)"
      ],
      "execution_count": null,
      "outputs": [
        {
          "output_type": "execute_result",
          "data": {
            "text/plain": [
              "list"
            ]
          },
          "metadata": {
            "tags": []
          },
          "execution_count": 14
        }
      ]
    },
    {
      "cell_type": "code",
      "metadata": {
        "id": "Qg1qp0jGwPRZ"
      },
      "source": [
        "my_tuple = (1,)"
      ],
      "execution_count": null,
      "outputs": []
    },
    {
      "cell_type": "code",
      "metadata": {
        "id": "dFs4gMVowaRh",
        "colab": {
          "base_uri": "https://localhost:8080/"
        },
        "outputId": "bfb98e10-0858-4172-e46d-3f7b9c83c0c3"
      },
      "source": [
        "type(my_tuple)"
      ],
      "execution_count": null,
      "outputs": [
        {
          "output_type": "execute_result",
          "data": {
            "text/plain": [
              "tuple"
            ]
          },
          "metadata": {
            "tags": []
          },
          "execution_count": 10
        }
      ]
    },
    {
      "cell_type": "code",
      "metadata": {
        "id": "dpbiMeBzUkA5"
      },
      "source": [
        "my_tuple = 1,2,3"
      ],
      "execution_count": null,
      "outputs": []
    },
    {
      "cell_type": "code",
      "metadata": {
        "id": "mhzDE0a5wzsN",
        "colab": {
          "base_uri": "https://localhost:8080/"
        },
        "outputId": "efbfc53a-2bb9-44f6-818d-0bc09e2a2a1a"
      },
      "source": [
        "type(my_tuple)"
      ],
      "execution_count": null,
      "outputs": [
        {
          "output_type": "execute_result",
          "data": {
            "text/plain": [
              "tuple"
            ]
          },
          "metadata": {
            "tags": []
          },
          "execution_count": 22
        }
      ]
    },
    {
      "cell_type": "code",
      "metadata": {
        "id": "3XasyDgzwaft"
      },
      "source": [
        "my_tuple = (1,2,3,4)"
      ],
      "execution_count": null,
      "outputs": []
    },
    {
      "cell_type": "code",
      "metadata": {
        "id": "huPIwRVVx2wK",
        "colab": {
          "base_uri": "https://localhost:8080/"
        },
        "outputId": "aa123ec1-031c-450a-f532-afd867ccffcb"
      },
      "source": [
        "len(my_tuple)"
      ],
      "execution_count": null,
      "outputs": [
        {
          "output_type": "execute_result",
          "data": {
            "text/plain": [
              "4"
            ]
          },
          "metadata": {
            "tags": []
          },
          "execution_count": 24
        }
      ]
    },
    {
      "cell_type": "markdown",
      "metadata": {
        "id": "QutmafNzx2wN"
      },
      "source": [
        "## Tuple Indexing\n",
        "\n",
        "* Indexing work just like in lists.\n",
        "\n",
        "\n",
        "* A tuple index refers to the location of an element in a tuple.\n",
        "\n",
        "\n",
        "* Remember the indexing begins from 0 in Python.\n",
        "\n",
        "\n",
        "* The first element is assigned an index 0, the second element is assigned an index of 1 and so on and so forth."
      ]
    },
    {
      "cell_type": "code",
      "metadata": {
        "colab": {
          "base_uri": "https://localhost:8080/"
        },
        "id": "ZpAn22VZV5o7",
        "outputId": "f7f0df16-e291-4e7a-9e99-e00ba38dbf90"
      },
      "source": [
        "print(another_tuple)"
      ],
      "execution_count": null,
      "outputs": [
        {
          "output_type": "stream",
          "text": [
            "('one', 2, 4.53, 'asbc')\n"
          ],
          "name": "stdout"
        }
      ]
    },
    {
      "cell_type": "code",
      "metadata": {
        "id": "wcxawypZx2wN",
        "colab": {
          "base_uri": "https://localhost:8080/",
          "height": 34
        },
        "outputId": "e0964870-c4c3-465a-9314-68fa989168cf"
      },
      "source": [
        "# Grab the element at index 0, which is the FIRST element\n",
        "another_tuple[0]"
      ],
      "execution_count": null,
      "outputs": [
        {
          "output_type": "execute_result",
          "data": {
            "application/vnd.google.colaboratory.intrinsic+json": {
              "type": "string"
            },
            "text/plain": [
              "'one'"
            ]
          },
          "metadata": {
            "tags": []
          },
          "execution_count": 26
        }
      ]
    },
    {
      "cell_type": "code",
      "metadata": {
        "id": "cGmGukFtx2wR",
        "colab": {
          "base_uri": "https://localhost:8080/",
          "height": 34
        },
        "outputId": "2836b79e-35ad-4328-a518-51b3571940f6"
      },
      "source": [
        "# Grab the element at index 3, which is the FOURTH element\n",
        "another_tuple[3]"
      ],
      "execution_count": null,
      "outputs": [
        {
          "output_type": "execute_result",
          "data": {
            "application/vnd.google.colaboratory.intrinsic+json": {
              "type": "string"
            },
            "text/plain": [
              "'asbc'"
            ]
          },
          "metadata": {
            "tags": []
          },
          "execution_count": 27
        }
      ]
    },
    {
      "cell_type": "code",
      "metadata": {
        "id": "juNr6LZnx2wU",
        "colab": {
          "base_uri": "https://localhost:8080/",
          "height": 34
        },
        "outputId": "837225dd-81b7-4c1b-9b42-5da569b540e2"
      },
      "source": [
        "# Grab the element at the index -1, which is the LAST element\n",
        "another_tuple[-1]"
      ],
      "execution_count": null,
      "outputs": [
        {
          "output_type": "execute_result",
          "data": {
            "application/vnd.google.colaboratory.intrinsic+json": {
              "type": "string"
            },
            "text/plain": [
              "'asbc'"
            ]
          },
          "metadata": {
            "tags": []
          },
          "execution_count": 28
        }
      ]
    },
    {
      "cell_type": "code",
      "metadata": {
        "id": "bZiLXFa3x2wX",
        "colab": {
          "base_uri": "https://localhost:8080/"
        },
        "outputId": "9ea4f41f-a825-438e-93c4-e8b2f864742e"
      },
      "source": [
        "# Grab the element at the index -3, which is the THIRD LAST element\n",
        "another_tuple[-3]"
      ],
      "execution_count": null,
      "outputs": [
        {
          "output_type": "execute_result",
          "data": {
            "text/plain": [
              "2"
            ]
          },
          "metadata": {
            "tags": []
          },
          "execution_count": 29
        }
      ]
    },
    {
      "cell_type": "markdown",
      "metadata": {
        "id": "v_Dz0Rf8x2wZ"
      },
      "source": [
        "## Tuple Slicing\n",
        "\n",
        "* We can use a <code>:</code> to perform *slicing* which grabs everything up to a designated point.\n",
        "\n",
        "\n",
        "* The starting index is specified on the left of the <code>:</code> and the ending index is specified on the right of the <code>:</code>.\n",
        "\n",
        "\n",
        "* Remember the element located at the right index is not included."
      ]
    },
    {
      "cell_type": "code",
      "metadata": {
        "id": "gpNaAjgLx2wZ",
        "colab": {
          "base_uri": "https://localhost:8080/"
        },
        "outputId": "3b52ddc7-f999-4f42-981b-e171178e813e"
      },
      "source": [
        "# Print our list\n",
        "print(another_tuple)"
      ],
      "execution_count": null,
      "outputs": [
        {
          "output_type": "stream",
          "text": [
            "('one', 2, 4.53, 'asbc')\n"
          ],
          "name": "stdout"
        }
      ]
    },
    {
      "cell_type": "code",
      "metadata": {
        "id": "KOVYp2O-x2wc",
        "colab": {
          "base_uri": "https://localhost:8080/"
        },
        "outputId": "840c0ae3-35a6-4429-8c3f-3163d6d50bf9"
      },
      "source": [
        "# Grab the elements starting from index 1 and everything past it\n",
        "another_tuple[1:3]"
      ],
      "execution_count": null,
      "outputs": [
        {
          "output_type": "execute_result",
          "data": {
            "text/plain": [
              "(2, 4.53)"
            ]
          },
          "metadata": {
            "tags": []
          },
          "execution_count": 31
        }
      ]
    },
    {
      "cell_type": "markdown",
      "metadata": {
        "id": "tRf9M55tx2wf"
      },
      "source": [
        "* If you do not specify the ending index, then all elements are extracted which comes after the starting index including the element at that starting index. The operation knows only to stop when it has run through the entire tuple."
      ]
    },
    {
      "cell_type": "code",
      "metadata": {
        "id": "qP9KxBbwx2wf",
        "colab": {
          "base_uri": "https://localhost:8080/"
        },
        "outputId": "4b58144c-e17c-4f54-b477-e468cfd18e61"
      },
      "source": [
        "# Grab everything starting from index 2\n",
        "another_tuple[2:]"
      ],
      "execution_count": null,
      "outputs": [
        {
          "output_type": "execute_result",
          "data": {
            "text/plain": [
              "(4.53, 'asbc')"
            ]
          },
          "metadata": {
            "tags": []
          },
          "execution_count": 32
        }
      ]
    },
    {
      "cell_type": "markdown",
      "metadata": {
        "id": "PgKv1f2qx2wj"
      },
      "source": [
        "* If you do not specify the starting index, then all elements are extracted which comes befores the ending index excluding the element at the specified ending index. The operation knows only to stop when it has extracted all elements before the  element at the ending index."
      ]
    },
    {
      "cell_type": "code",
      "metadata": {
        "id": "u_kPO20kx2wj",
        "colab": {
          "base_uri": "https://localhost:8080/"
        },
        "outputId": "cdf39849-7ebb-46ac-8ce7-23f0307083c6"
      },
      "source": [
        "# Grab everything before the index 4\n",
        "another_tuple[:6]"
      ],
      "execution_count": null,
      "outputs": [
        {
          "output_type": "execute_result",
          "data": {
            "text/plain": [
              "('one', 2, 4.53, 'asbc')"
            ]
          },
          "metadata": {
            "tags": []
          },
          "execution_count": 34
        }
      ]
    },
    {
      "cell_type": "markdown",
      "metadata": {
        "id": "1qkOSf_Vx2wn"
      },
      "source": [
        "* If you do not specify the starting and the ending index, it will extract all elements of the tuple."
      ]
    },
    {
      "cell_type": "code",
      "metadata": {
        "id": "2dIvFwW9x2wn",
        "colab": {
          "base_uri": "https://localhost:8080/"
        },
        "outputId": "f19db829-4c23-4906-c3ec-9feb838d94dd"
      },
      "source": [
        "# Grab everything\n",
        "another_tuple"
      ],
      "execution_count": null,
      "outputs": [
        {
          "output_type": "execute_result",
          "data": {
            "text/plain": [
              "('one', 2, 4.53, 'asbc')"
            ]
          },
          "metadata": {
            "tags": []
          },
          "execution_count": 35
        }
      ]
    },
    {
      "cell_type": "markdown",
      "metadata": {
        "id": "SdKU_cPFx2wp"
      },
      "source": [
        "* We can also extract the last four elements. Remember we can use the index -4 to extract the FOURTH LAST element"
      ]
    },
    {
      "cell_type": "code",
      "metadata": {
        "id": "gvcyMuHkx2wq",
        "colab": {
          "base_uri": "https://localhost:8080/"
        },
        "outputId": "3bacc63d-6453-4889-c96f-d660abe5d820"
      },
      "source": [
        "# Grab the LAST FOUR elements of the list\n",
        "another_tuple[-4:]"
      ],
      "execution_count": null,
      "outputs": [
        {
          "output_type": "execute_result",
          "data": {
            "text/plain": [
              "('one', 2, 4.53, 'asbc')"
            ]
          },
          "metadata": {
            "tags": []
          },
          "execution_count": 36
        }
      ]
    },
    {
      "cell_type": "markdown",
      "metadata": {
        "id": "9lCrYVHmx2ws"
      },
      "source": [
        "* It should also be noted that tuple indexing will return an error if there is no element at that index."
      ]
    },
    {
      "cell_type": "code",
      "metadata": {
        "id": "qbHiONdnx2wt",
        "colab": {
          "base_uri": "https://localhost:8080/",
          "height": 166
        },
        "outputId": "27b7360a-4f7f-462e-ac67-2750df2e12d8"
      },
      "source": [
        "another_tuple[5]"
      ],
      "execution_count": null,
      "outputs": [
        {
          "output_type": "error",
          "ename": "IndexError",
          "evalue": "ignored",
          "traceback": [
            "\u001b[0;31m---------------------------------------------------------------------------\u001b[0m",
            "\u001b[0;31mIndexError\u001b[0m                                Traceback (most recent call last)",
            "\u001b[0;32m<ipython-input-37-3d51a942c11d>\u001b[0m in \u001b[0;36m<module>\u001b[0;34m()\u001b[0m\n\u001b[0;32m----> 1\u001b[0;31m \u001b[0manother_tuple\u001b[0m\u001b[0;34m[\u001b[0m\u001b[0;36m5\u001b[0m\u001b[0;34m]\u001b[0m\u001b[0;34m\u001b[0m\u001b[0;34m\u001b[0m\u001b[0m\n\u001b[0m",
            "\u001b[0;31mIndexError\u001b[0m: tuple index out of range"
          ]
        }
      ]
    },
    {
      "cell_type": "code",
      "metadata": {
        "id": "CzJEQohvx2wy",
        "colab": {
          "base_uri": "https://localhost:8080/"
        },
        "outputId": "13294e6f-fc00-47b0-aa7d-909fa64695b5"
      },
      "source": [
        "# Check len just like a list\n",
        "len(another_tuple)"
      ],
      "execution_count": null,
      "outputs": [
        {
          "output_type": "execute_result",
          "data": {
            "text/plain": [
              "4"
            ]
          },
          "metadata": {
            "tags": []
          },
          "execution_count": 38
        }
      ]
    },
    {
      "cell_type": "code",
      "metadata": {
        "id": "voUVF0NfyuM9"
      },
      "source": [
        "random_tuple = (1,5,6,2)"
      ],
      "execution_count": null,
      "outputs": []
    },
    {
      "cell_type": "code",
      "metadata": {
        "id": "EbGyqDzUyyX6",
        "colab": {
          "base_uri": "https://localhost:8080/"
        },
        "outputId": "ec62362b-cfa9-426f-bb92-a15c129c85c7"
      },
      "source": [
        "sorted(random_tuple)"
      ],
      "execution_count": null,
      "outputs": [
        {
          "output_type": "execute_result",
          "data": {
            "text/plain": [
              "[1, 2, 5, 6]"
            ]
          },
          "metadata": {
            "tags": []
          },
          "execution_count": 40
        }
      ]
    },
    {
      "cell_type": "markdown",
      "metadata": {
        "id": "6NaL3DU1x2w1"
      },
      "source": [
        "## Tuple Methods\n",
        "\n",
        "* Tuples have built-in methods, but not as many as lists do."
      ]
    },
    {
      "cell_type": "markdown",
      "metadata": {
        "id": "INOUJ-IJx2w1"
      },
      "source": [
        "### <code>index()</code>\n",
        "\n",
        "\n",
        "* The <code>index()</code> method returns the index of a specified element."
      ]
    },
    {
      "cell_type": "code",
      "metadata": {
        "id": "PxssLKRkx2w2"
      },
      "source": [
        "my_tuple =(1,2,3,4,5,6,1,1,2)"
      ],
      "execution_count": null,
      "outputs": []
    },
    {
      "cell_type": "code",
      "metadata": {
        "id": "5YOxgp1Xx2w4",
        "colab": {
          "base_uri": "https://localhost:8080/"
        },
        "outputId": "d2a07779-6ff6-41fd-ffdb-b514d3e146d0"
      },
      "source": [
        "# Use .index to enter a value and return the index\n",
        "my_tuple.index(2)"
      ],
      "execution_count": null,
      "outputs": [
        {
          "output_type": "execute_result",
          "data": {
            "text/plain": [
              "1"
            ]
          },
          "metadata": {
            "tags": []
          },
          "execution_count": 42
        }
      ]
    },
    {
      "cell_type": "markdown",
      "metadata": {
        "id": "6MHUetrLx2w6"
      },
      "source": [
        "### <code>count()</code>\n",
        "\n",
        "\n",
        "* The <code>count()</code> method returns the total occurrence of a specified element in a tuple"
      ]
    },
    {
      "cell_type": "code",
      "metadata": {
        "id": "InNQ8DqUx2w6",
        "colab": {
          "base_uri": "https://localhost:8080/"
        },
        "outputId": "f478ad25-7d19-4a27-f3af-fce6457e4961"
      },
      "source": [
        "# Use .count to count the number of times a value appears\n",
        "my_tuple.count(2)"
      ],
      "execution_count": null,
      "outputs": [
        {
          "output_type": "execute_result",
          "data": {
            "text/plain": [
              "2"
            ]
          },
          "metadata": {
            "tags": []
          },
          "execution_count": 43
        }
      ]
    },
    {
      "cell_type": "code",
      "metadata": {
        "id": "cINAVl65x2w8",
        "colab": {
          "base_uri": "https://localhost:8080/"
        },
        "outputId": "da9790dc-f650-4ba3-c37d-aef5e2bbd7c7"
      },
      "source": [
        "my_tuple.count(1)"
      ],
      "execution_count": null,
      "outputs": [
        {
          "output_type": "execute_result",
          "data": {
            "text/plain": [
              "3"
            ]
          },
          "metadata": {
            "tags": []
          },
          "execution_count": 44
        }
      ]
    },
    {
      "cell_type": "code",
      "metadata": {
        "id": "FJwxB5x3ZRQw"
      },
      "source": [
        "my_tuple."
      ],
      "execution_count": null,
      "outputs": []
    },
    {
      "cell_type": "code",
      "metadata": {
        "id": "77eLJW6VZVbA"
      },
      "source": [
        "my_list = [1,2,3,4]"
      ],
      "execution_count": null,
      "outputs": []
    },
    {
      "cell_type": "code",
      "metadata": {
        "id": "7az6tjANZXXA"
      },
      "source": [
        "my_list."
      ],
      "execution_count": null,
      "outputs": []
    },
    {
      "cell_type": "markdown",
      "metadata": {
        "id": "o_B-5yhsx2w-"
      },
      "source": [
        "## Immutability\n",
        "\n",
        "* It can't be stressed enough that tuples are immutable."
      ]
    },
    {
      "cell_type": "code",
      "metadata": {
        "colab": {
          "base_uri": "https://localhost:8080/"
        },
        "id": "eVHBqLlkZ79R",
        "outputId": "9693c86e-45b6-4fba-f75a-fc9e31b9594f"
      },
      "source": [
        "print(my_tuple)"
      ],
      "execution_count": null,
      "outputs": [
        {
          "output_type": "stream",
          "text": [
            "(1, 2, 3, 4, 5, 6, 1, 1, 2)\n"
          ],
          "name": "stdout"
        }
      ]
    },
    {
      "cell_type": "code",
      "metadata": {
        "id": "VO93y72Gx2w_",
        "colab": {
          "base_uri": "https://localhost:8080/"
        },
        "outputId": "d9053075-0984-477e-ea6d-d36ef9cc398f"
      },
      "source": [
        "my_tuple[0]"
      ],
      "execution_count": null,
      "outputs": [
        {
          "output_type": "execute_result",
          "data": {
            "text/plain": [
              "1"
            ]
          },
          "metadata": {
            "tags": []
          },
          "execution_count": 46
        }
      ]
    },
    {
      "cell_type": "code",
      "metadata": {
        "id": "w5IKgVqkx2xB",
        "colab": {
          "base_uri": "https://localhost:8080/",
          "height": 166
        },
        "outputId": "b04877e4-70ba-4632-f636-9dbc157c5c2c"
      },
      "source": [
        "my_tuple[0] = 'change'"
      ],
      "execution_count": null,
      "outputs": [
        {
          "output_type": "error",
          "ename": "TypeError",
          "evalue": "ignored",
          "traceback": [
            "\u001b[0;31m---------------------------------------------------------------------------\u001b[0m",
            "\u001b[0;31mTypeError\u001b[0m                                 Traceback (most recent call last)",
            "\u001b[0;32m<ipython-input-48-1113c19e61ee>\u001b[0m in \u001b[0;36m<module>\u001b[0;34m()\u001b[0m\n\u001b[0;32m----> 1\u001b[0;31m \u001b[0mmy_tuple\u001b[0m\u001b[0;34m[\u001b[0m\u001b[0;36m0\u001b[0m\u001b[0;34m]\u001b[0m \u001b[0;34m=\u001b[0m \u001b[0;34m'change'\u001b[0m\u001b[0;34m\u001b[0m\u001b[0;34m\u001b[0m\u001b[0m\n\u001b[0m",
            "\u001b[0;31mTypeError\u001b[0m: 'tuple' object does not support item assignment"
          ]
        }
      ]
    },
    {
      "cell_type": "markdown",
      "metadata": {
        "id": "AY5i1-jrx2xD"
      },
      "source": [
        "* Because of this immutability, tuples can't grow. Once a tuple is made we can not add to it."
      ]
    },
    {
      "cell_type": "markdown",
      "metadata": {
        "id": "Wu7kIjSNx2xE"
      },
      "source": [
        "* Let us consider a list and lets see if we can do this operation on them"
      ]
    },
    {
      "cell_type": "code",
      "metadata": {
        "id": "iv-fMwN-x2xE"
      },
      "source": [
        "# Create a list\n",
        "my_list = [5,7,9,3,2]"
      ],
      "execution_count": null,
      "outputs": []
    },
    {
      "cell_type": "code",
      "metadata": {
        "id": "7tzllaFJx2xG"
      },
      "source": [
        "# Replace the FIRST element with the value 1\n",
        "my_list[0] = 1"
      ],
      "execution_count": null,
      "outputs": []
    },
    {
      "cell_type": "code",
      "metadata": {
        "id": "Srx-bzhDx2xJ",
        "colab": {
          "base_uri": "https://localhost:8080/"
        },
        "outputId": "27d0b763-edbe-429b-8efb-4dbb87e51d02"
      },
      "source": [
        "# Our modified list\n",
        "my_list"
      ],
      "execution_count": null,
      "outputs": [
        {
          "output_type": "execute_result",
          "data": {
            "text/plain": [
              "[1, 7, 9, 3, 2]"
            ]
          },
          "metadata": {
            "tags": []
          },
          "execution_count": 51
        }
      ]
    },
    {
      "cell_type": "markdown",
      "metadata": {
        "id": "4JSa0bw9x2xL"
      },
      "source": [
        "* Tuple does not support methods such as <code>append()</code>, <code>extend()</code>, <code>remove()</code>, <code>pop()</code>"
      ]
    },
    {
      "cell_type": "code",
      "metadata": {
        "id": "zY0mWGohx2xM",
        "colab": {
          "base_uri": "https://localhost:8080/",
          "height": 166
        },
        "outputId": "cd39ecc8-8346-461f-822a-b3c149db9458"
      },
      "source": [
        "my_tuple.append('Great!')"
      ],
      "execution_count": null,
      "outputs": [
        {
          "output_type": "error",
          "ename": "AttributeError",
          "evalue": "ignored",
          "traceback": [
            "\u001b[0;31m---------------------------------------------------------------------------\u001b[0m",
            "\u001b[0;31mAttributeError\u001b[0m                            Traceback (most recent call last)",
            "\u001b[0;32m<ipython-input-52-762f4e61335a>\u001b[0m in \u001b[0;36m<module>\u001b[0;34m()\u001b[0m\n\u001b[0;32m----> 1\u001b[0;31m \u001b[0mmy_tuple\u001b[0m\u001b[0;34m.\u001b[0m\u001b[0mappend\u001b[0m\u001b[0;34m(\u001b[0m\u001b[0;34m'Great!'\u001b[0m\u001b[0;34m)\u001b[0m\u001b[0;34m\u001b[0m\u001b[0;34m\u001b[0m\u001b[0m\n\u001b[0m",
            "\u001b[0;31mAttributeError\u001b[0m: 'tuple' object has no attribute 'append'"
          ]
        }
      ]
    },
    {
      "cell_type": "markdown",
      "metadata": {
        "id": "FY0pToLax2xO"
      },
      "source": [
        "### <code>zip()</code>\n",
        "\n",
        "\n",
        "* <code>zip()</code> function takes multiple lists as arguments and zips them together\n",
        "\n",
        "\n",
        "* This function returns a list of n-paired tuples where n is the number of lists being zipped"
      ]
    },
    {
      "cell_type": "code",
      "metadata": {
        "id": "nZqkre4Ex2xP"
      },
      "source": [
        "city_list = ['Delhi','Patna','Cuttack','Guwahati']\n",
        "river_list = ['Yamuna','Ganga','Mahanadi','Brahmaputra']"
      ],
      "execution_count": null,
      "outputs": []
    },
    {
      "cell_type": "code",
      "metadata": {
        "colab": {
          "base_uri": "https://localhost:8080/"
        },
        "id": "557Z0mC-cXRE",
        "outputId": "df171a07-4925-4829-e79c-a7d500077ce5"
      },
      "source": [
        "zip(city_list, river_list)"
      ],
      "execution_count": null,
      "outputs": [
        {
          "output_type": "execute_result",
          "data": {
            "text/plain": [
              "<zip at 0x7f8ef0d3e3c0>"
            ]
          },
          "metadata": {
            "tags": []
          },
          "execution_count": 55
        }
      ]
    },
    {
      "cell_type": "code",
      "metadata": {
        "id": "Z4nluMN5x2xR"
      },
      "source": [
        "city_and_their_rivers = list(zip(city_list,river_list))"
      ],
      "execution_count": null,
      "outputs": []
    },
    {
      "cell_type": "code",
      "metadata": {
        "id": "y2NaSS0tx2xT",
        "colab": {
          "base_uri": "https://localhost:8080/"
        },
        "outputId": "3bd216cb-4926-410b-e695-2202adb9ee7f"
      },
      "source": [
        "city_and_their_rivers"
      ],
      "execution_count": null,
      "outputs": [
        {
          "output_type": "execute_result",
          "data": {
            "text/plain": [
              "[('Delhi', 'Yamuna'),\n",
              " ('Patna', 'Ganga'),\n",
              " ('Cuttack', 'Mahanadi'),\n",
              " ('Guwahati', 'Brahmaputra')]"
            ]
          },
          "metadata": {
            "tags": []
          },
          "execution_count": 57
        }
      ]
    },
    {
      "cell_type": "code",
      "metadata": {
        "id": "wx1ha97Hdqy7"
      },
      "source": [
        "city_list = ['Delhi','Patna','Cuttack','Guwahati']\n",
        "river_list = ['Yamuna','Ganga','Mahanadi','Brahamputra','Thames']"
      ],
      "execution_count": null,
      "outputs": []
    },
    {
      "cell_type": "code",
      "metadata": {
        "colab": {
          "base_uri": "https://localhost:8080/"
        },
        "id": "4VEA76OadwAs",
        "outputId": "8967c2b4-2677-4594-f6c8-eefcbd077b7c"
      },
      "source": [
        "list(zip(city_list,river_list))"
      ],
      "execution_count": null,
      "outputs": [
        {
          "output_type": "execute_result",
          "data": {
            "text/plain": [
              "[('Delhi', 'Yamuna'),\n",
              " ('Patna', 'Ganga'),\n",
              " ('Cuttack', 'Mahanadi'),\n",
              " ('Guwahati', 'Brahamputra')]"
            ]
          },
          "metadata": {
            "tags": []
          },
          "execution_count": 61
        }
      ]
    },
    {
      "cell_type": "markdown",
      "metadata": {
        "id": "yMYuf2Hvx2xV"
      },
      "source": [
        "## When to use Tuples\n",
        "\n",
        "* You may be wondering, \"Why bother using tuples when they have fewer available methods?\" To be honest, tuples are not used as often as lists in programming, but are used when immutability is necessary. If in your program you are passing around an object and need to make sure it does not get changed, then a tuple becomes your solution. It provides a convenient source of data integrity.\n",
        "\n",
        "\n",
        "* You will find them often in functions when you are returning some values\n",
        "\n",
        "\n",
        "* You should now be able to create and use tuples in your programming as well as have an understanding of their immutability."
      ]
    },
    {
      "cell_type": "markdown",
      "metadata": {
        "id": "Fy6-SFXHx2xW"
      },
      "source": [
        "# Sets\n",
        "\n",
        "* Sets are an unordered collection of *unique* elements. We can construct them by using the <code>set()</code> function.\n",
        "\n",
        "\n",
        "* Sets cannot have duplicates.\n",
        "\n",
        "\n",
        "* Sets are mutable just like lists.\n",
        "\n",
        "\n",
        "* You can create a non-empty set with curly braces by specifying elements separated by a comma."
      ]
    },
    {
      "cell_type": "code",
      "metadata": {
        "id": "utCm3Vlmx2xW"
      },
      "source": [
        "# Create an empty set\n",
        "empty_set = set()"
      ],
      "execution_count": null,
      "outputs": []
    },
    {
      "cell_type": "code",
      "metadata": {
        "id": "Yt9nkoOcx2xY",
        "colab": {
          "base_uri": "https://localhost:8080/"
        },
        "outputId": "25c09af4-69f9-403e-f8f2-3457fbd22f0a"
      },
      "source": [
        "type(empty_set)"
      ],
      "execution_count": null,
      "outputs": [
        {
          "output_type": "execute_result",
          "data": {
            "text/plain": [
              "set"
            ]
          },
          "metadata": {
            "tags": []
          },
          "execution_count": 63
        }
      ]
    },
    {
      "cell_type": "code",
      "metadata": {
        "id": "9mWIu_PFx2xZ"
      },
      "source": [
        "# Create a non-empty set within curly braces\n",
        "non_empty_set = {1,6,4,'abc'}"
      ],
      "execution_count": null,
      "outputs": []
    },
    {
      "cell_type": "code",
      "metadata": {
        "id": "MDI_a8slx2xb",
        "colab": {
          "base_uri": "https://localhost:8080/"
        },
        "outputId": "6d9cb3c7-8314-47bd-a76c-459396e19b08"
      },
      "source": [
        "type(non_empty_set)"
      ],
      "execution_count": null,
      "outputs": [
        {
          "output_type": "execute_result",
          "data": {
            "text/plain": [
              "set"
            ]
          },
          "metadata": {
            "tags": []
          },
          "execution_count": 65
        }
      ]
    },
    {
      "cell_type": "markdown",
      "metadata": {
        "id": "YMD--2K9x2xe"
      },
      "source": [
        "## A Time for Caution\n",
        "\n",
        "* An empty set cannot be represented as <code>{}</code>, which is reserved for an <u>empty dictionary</u> which we will get to know in a short while"
      ]
    },
    {
      "cell_type": "code",
      "metadata": {
        "id": "CohTP3Qfx2xe"
      },
      "source": [
        "my_object = {}"
      ],
      "execution_count": null,
      "outputs": []
    },
    {
      "cell_type": "code",
      "metadata": {
        "id": "hWTaSIAMx2xg",
        "colab": {
          "base_uri": "https://localhost:8080/"
        },
        "outputId": "9f5b659a-539c-482a-eec1-09cc3f6959c5"
      },
      "source": [
        "type(my_object)"
      ],
      "execution_count": null,
      "outputs": [
        {
          "output_type": "execute_result",
          "data": {
            "text/plain": [
              "dict"
            ]
          },
          "metadata": {
            "tags": []
          },
          "execution_count": 67
        }
      ]
    },
    {
      "cell_type": "code",
      "metadata": {
        "id": "kMaqioALx2xj"
      },
      "source": [
        "my_set = set()"
      ],
      "execution_count": null,
      "outputs": []
    },
    {
      "cell_type": "code",
      "metadata": {
        "id": "Bu1iyqLrx2xl",
        "colab": {
          "base_uri": "https://localhost:8080/"
        },
        "outputId": "6df99642-830d-4add-85d7-24d1fefd7b07"
      },
      "source": [
        "type(my_set)"
      ],
      "execution_count": null,
      "outputs": [
        {
          "output_type": "execute_result",
          "data": {
            "text/plain": [
              "set"
            ]
          },
          "metadata": {
            "tags": []
          },
          "execution_count": 69
        }
      ]
    },
    {
      "cell_type": "markdown",
      "metadata": {
        "id": "ctWYu0cUx2xn"
      },
      "source": [
        "*  We can cast a list with multiple repeat elements to a set to get the unique elements."
      ]
    },
    {
      "cell_type": "code",
      "metadata": {
        "id": "sUh8Zv8Rx2xo"
      },
      "source": [
        "# Create a list with repeats\n",
        "my_list = [1,1,2,2,3,4,5,6,1,1]"
      ],
      "execution_count": null,
      "outputs": []
    },
    {
      "cell_type": "code",
      "metadata": {
        "id": "Kdr-pcGRx2xr"
      },
      "source": [
        "# Cast as set to get unique values\n",
        "my_set = set(my_list)"
      ],
      "execution_count": null,
      "outputs": []
    },
    {
      "cell_type": "code",
      "metadata": {
        "id": "2nXbPmqRx2xt",
        "colab": {
          "base_uri": "https://localhost:8080/"
        },
        "outputId": "50258a60-b911-4ad6-847e-3553a969786f"
      },
      "source": [
        "my_set"
      ],
      "execution_count": null,
      "outputs": [
        {
          "output_type": "execute_result",
          "data": {
            "text/plain": [
              "{1, 2, 3, 4, 5, 6}"
            ]
          },
          "metadata": {
            "tags": []
          },
          "execution_count": 73
        }
      ]
    },
    {
      "cell_type": "code",
      "metadata": {
        "id": "XBZqcSLyx2xv"
      },
      "source": [
        "# A set cannot have mutable items\n",
        "my_set = {1, 2, (3, 4)}"
      ],
      "execution_count": null,
      "outputs": []
    },
    {
      "cell_type": "markdown",
      "metadata": {
        "id": "7GuQNu1ix2xx"
      },
      "source": [
        "* We cannot create a set whose any of the elements is a list"
      ]
    },
    {
      "cell_type": "code",
      "metadata": {
        "id": "lt_RVt86x2xy"
      },
      "source": [
        "# But we can have tuples as set elements, they are immutable\n",
        "my_set = {1, 2, (2,3)}"
      ],
      "execution_count": null,
      "outputs": []
    },
    {
      "cell_type": "code",
      "metadata": {
        "id": "1dj_FMzkx2x1",
        "colab": {
          "base_uri": "https://localhost:8080/"
        },
        "outputId": "bdf393ba-439f-4324-9bc0-d09c4d6c67f9"
      },
      "source": [
        "my_set"
      ],
      "execution_count": null,
      "outputs": [
        {
          "output_type": "execute_result",
          "data": {
            "text/plain": [
              "{(3, 4), 1, 2}"
            ]
          },
          "metadata": {
            "tags": []
          },
          "execution_count": 77
        }
      ]
    },
    {
      "cell_type": "code",
      "metadata": {
        "id": "WrYzn-Pg72u7",
        "colab": {
          "base_uri": "https://localhost:8080/",
          "height": 166
        },
        "outputId": "04a9a318-17e8-4ccd-f115-fa0ac2a44311"
      },
      "source": [
        "my_set = {1,2, {3,5}}"
      ],
      "execution_count": null,
      "outputs": [
        {
          "output_type": "error",
          "ename": "TypeError",
          "evalue": "ignored",
          "traceback": [
            "\u001b[0;31m---------------------------------------------------------------------------\u001b[0m",
            "\u001b[0;31mTypeError\u001b[0m                                 Traceback (most recent call last)",
            "\u001b[0;32m<ipython-input-76-d1c5730131c5>\u001b[0m in \u001b[0;36m<module>\u001b[0;34m()\u001b[0m\n\u001b[0;32m----> 1\u001b[0;31m \u001b[0mmy_set\u001b[0m \u001b[0;34m=\u001b[0m \u001b[0;34m{\u001b[0m\u001b[0;36m1\u001b[0m\u001b[0;34m,\u001b[0m\u001b[0;36m2\u001b[0m\u001b[0;34m,\u001b[0m \u001b[0;34m{\u001b[0m\u001b[0;36m3\u001b[0m\u001b[0;34m,\u001b[0m\u001b[0;36m5\u001b[0m\u001b[0;34m}\u001b[0m\u001b[0;34m}\u001b[0m\u001b[0;34m\u001b[0m\u001b[0;34m\u001b[0m\u001b[0m\n\u001b[0m",
            "\u001b[0;31mTypeError\u001b[0m: unhashable type: 'set'"
          ]
        }
      ]
    },
    {
      "cell_type": "code",
      "metadata": {
        "id": "6Av1DFXg76ii"
      },
      "source": [
        "my_set"
      ],
      "execution_count": null,
      "outputs": []
    },
    {
      "cell_type": "markdown",
      "metadata": {
        "id": "McnlvCvFx2x4"
      },
      "source": [
        "### <code>add()</code>\n",
        "\n",
        "\n",
        "*  <code>add()</code> method adds an element to a set\n",
        "\n",
        "\n",
        "* This method takes the element to be added as an argument"
      ]
    },
    {
      "cell_type": "code",
      "metadata": {
        "id": "gKrGTWaQx2x4"
      },
      "source": [
        "# We add to sets with the add() method\n",
        "my_set = set()\n",
        "my_set.add('a')"
      ],
      "execution_count": null,
      "outputs": []
    },
    {
      "cell_type": "code",
      "metadata": {
        "id": "COEtoXrZx2x5",
        "colab": {
          "base_uri": "https://localhost:8080/"
        },
        "outputId": "07b1cdba-cca1-418b-9adc-582f7eeb0f93"
      },
      "source": [
        "#Show\n",
        "my_set"
      ],
      "execution_count": null,
      "outputs": [
        {
          "output_type": "execute_result",
          "data": {
            "text/plain": [
              "{'a'}"
            ]
          },
          "metadata": {
            "tags": []
          },
          "execution_count": 79
        }
      ]
    },
    {
      "cell_type": "code",
      "metadata": {
        "id": "YTh2v7mSx2x8"
      },
      "source": [
        "# Add a different element\n",
        "my_set.add(2)"
      ],
      "execution_count": null,
      "outputs": []
    },
    {
      "cell_type": "code",
      "metadata": {
        "id": "AsGC5v5Hx2x-",
        "colab": {
          "base_uri": "https://localhost:8080/"
        },
        "outputId": "86d09796-285b-4145-b834-549e7627c505"
      },
      "source": [
        "#Show\n",
        "print(my_set)"
      ],
      "execution_count": null,
      "outputs": [
        {
          "output_type": "stream",
          "text": [
            "{2, 'a'}\n"
          ],
          "name": "stdout"
        }
      ]
    },
    {
      "cell_type": "code",
      "metadata": {
        "id": "t37-ERnhx2yA"
      },
      "source": [
        "# Lets add another element 1\n",
        "x.add(1)"
      ],
      "execution_count": null,
      "outputs": []
    },
    {
      "cell_type": "code",
      "metadata": {
        "id": "aM6UGArnx2yC",
        "outputId": "54041383-7b25-44a6-90c9-2005bd97c96e"
      },
      "source": [
        "#Show\n",
        "x"
      ],
      "execution_count": null,
      "outputs": [
        {
          "output_type": "execute_result",
          "data": {
            "text/plain": [
              "{1, 2, 'a'}"
            ]
          },
          "metadata": {
            "tags": []
          },
          "execution_count": 38
        }
      ]
    },
    {
      "cell_type": "code",
      "metadata": {
        "id": "qN4guFeox2yH"
      },
      "source": [
        "# Try to add the same element 1 again\n",
        "x.add(1)"
      ],
      "execution_count": null,
      "outputs": []
    },
    {
      "cell_type": "code",
      "metadata": {
        "id": "AGlDN8Iyx2yK",
        "outputId": "6fc34d83-960e-466f-8d99-b2bfa3620489"
      },
      "source": [
        "x"
      ],
      "execution_count": null,
      "outputs": [
        {
          "output_type": "execute_result",
          "data": {
            "text/plain": [
              "{1, 2, 'a'}"
            ]
          },
          "metadata": {
            "tags": []
          },
          "execution_count": 40
        }
      ]
    },
    {
      "cell_type": "markdown",
      "metadata": {
        "id": "i2PhWKETx2yN"
      },
      "source": [
        "* Notice how it won't place another 1 there. That's because a set is only concerned with unique elements!"
      ]
    },
    {
      "cell_type": "markdown",
      "metadata": {
        "id": "Y579P1fwx2yN"
      },
      "source": [
        "### <code>update()</code>\n",
        "\n",
        "* <code>update()</code> method helps to add multiple elements to a set"
      ]
    },
    {
      "cell_type": "code",
      "metadata": {
        "id": "-G2U0D2cx2yO"
      },
      "source": [
        "my_set = {5,7,9,3}"
      ],
      "execution_count": null,
      "outputs": []
    },
    {
      "cell_type": "code",
      "metadata": {
        "id": "jNAbIqwUx2yR",
        "colab": {
          "base_uri": "https://localhost:8080/"
        },
        "outputId": "051642a2-3b16-4dfd-b10f-10ba7b13a6ed"
      },
      "source": [
        "# add multiple elements\n",
        "my_set.update([2, 3, 4])\n",
        "print(my_set)"
      ],
      "execution_count": null,
      "outputs": [
        {
          "output_type": "stream",
          "text": [
            "{2, 3, 4, 5, 7, 9}\n"
          ],
          "name": "stdout"
        }
      ]
    },
    {
      "cell_type": "markdown",
      "metadata": {
        "id": "Ehae_5psx2yT"
      },
      "source": [
        "### <code>remove()</code>\n",
        "\n",
        "* Use <code>remove()</code> to remove an item/element from the set.\n",
        "\n",
        "\n",
        "* By default <code>remove()</code> removes the specified element from the set.\n",
        "\n",
        "\n",
        "* <code>remove()</code> takes the element as an argument."
      ]
    },
    {
      "cell_type": "code",
      "metadata": {
        "id": "yRW6CHCix2yU"
      },
      "source": [
        "non_empty_set = {1,5,6,73,2}"
      ],
      "execution_count": null,
      "outputs": []
    },
    {
      "cell_type": "code",
      "metadata": {
        "id": "UlzYv0oqx2yb"
      },
      "source": [
        "non_empty_set.remove(5)"
      ],
      "execution_count": null,
      "outputs": []
    },
    {
      "cell_type": "code",
      "metadata": {
        "id": "2ZdpesQJx2yd",
        "colab": {
          "base_uri": "https://localhost:8080/"
        },
        "outputId": "919bc775-a4c9-4096-9ba8-85d28a02f675"
      },
      "source": [
        "non_empty_set"
      ],
      "execution_count": null,
      "outputs": [
        {
          "output_type": "execute_result",
          "data": {
            "text/plain": [
              "{1, 2, 6, 73}"
            ]
          },
          "metadata": {
            "tags": []
          },
          "execution_count": 86
        }
      ]
    },
    {
      "cell_type": "code",
      "metadata": {
        "id": "JfaKZ5uex2ye",
        "colab": {
          "base_uri": "https://localhost:8080/",
          "height": 166
        },
        "outputId": "c19cddf8-e68b-4ba6-d4cc-075f298f1941"
      },
      "source": [
        "non_empty_set.remove(45)"
      ],
      "execution_count": null,
      "outputs": [
        {
          "output_type": "error",
          "ename": "KeyError",
          "evalue": "ignored",
          "traceback": [
            "\u001b[0;31m---------------------------------------------------------------------------\u001b[0m",
            "\u001b[0;31mKeyError\u001b[0m                                  Traceback (most recent call last)",
            "\u001b[0;32m<ipython-input-87-a4e6701c6396>\u001b[0m in \u001b[0;36m<module>\u001b[0;34m()\u001b[0m\n\u001b[0;32m----> 1\u001b[0;31m \u001b[0mnon_empty_set\u001b[0m\u001b[0;34m.\u001b[0m\u001b[0mremove\u001b[0m\u001b[0;34m(\u001b[0m\u001b[0;36m45\u001b[0m\u001b[0;34m)\u001b[0m\u001b[0;34m\u001b[0m\u001b[0;34m\u001b[0m\u001b[0m\n\u001b[0m",
            "\u001b[0;31mKeyError\u001b[0m: 45"
          ]
        }
      ]
    },
    {
      "cell_type": "markdown",
      "metadata": {
        "id": "4WyPacOmx2yg"
      },
      "source": [
        "* <code>remove()</code> throws an error when we try to remove an element which is not present in the set"
      ]
    },
    {
      "cell_type": "markdown",
      "metadata": {
        "id": "J78K33lKx2yh"
      },
      "source": [
        "### <code>union()</code>\n",
        "\n",
        "\n",
        "* <code>union()</code> method returns the union of two sets\n",
        "\n",
        "\n",
        "* Also denoted by the operator <code>|</code>"
      ]
    },
    {
      "cell_type": "code",
      "metadata": {
        "id": "5PsHlxXvx2yh"
      },
      "source": [
        "# Initialize sets A and B\n",
        "A = {1, 2, 3, 4, 5}\n",
        "B = {4, 5, 6, 7, 8}"
      ],
      "execution_count": null,
      "outputs": []
    },
    {
      "cell_type": "code",
      "metadata": {
        "id": "xb3dKUDdx2yi",
        "colab": {
          "base_uri": "https://localhost:8080/"
        },
        "outputId": "c92e9fb1-dd58-46d1-c79e-51ba6ee91413"
      },
      "source": [
        "A.union(B)"
      ],
      "execution_count": null,
      "outputs": [
        {
          "output_type": "execute_result",
          "data": {
            "text/plain": [
              "{1, 2, 3, 4, 5, 6, 7, 8}"
            ]
          },
          "metadata": {
            "tags": []
          },
          "execution_count": 89
        }
      ]
    },
    {
      "cell_type": "code",
      "metadata": {
        "colab": {
          "base_uri": "https://localhost:8080/"
        },
        "id": "LEnTk73BlUvM",
        "outputId": "bbaaeb98-59a0-40a2-ba39-8c0ce817238d"
      },
      "source": [
        "A"
      ],
      "execution_count": null,
      "outputs": [
        {
          "output_type": "execute_result",
          "data": {
            "text/plain": [
              "{1, 2, 3, 4, 5}"
            ]
          },
          "metadata": {
            "tags": []
          },
          "execution_count": 90
        }
      ]
    },
    {
      "cell_type": "code",
      "metadata": {
        "id": "5eiCPbm3x2yk",
        "colab": {
          "base_uri": "https://localhost:8080/"
        },
        "outputId": "5774a032-5b25-4886-a504-67f1b6412ba1"
      },
      "source": [
        "# Also denoted by the operator |\n",
        "A | B"
      ],
      "execution_count": null,
      "outputs": [
        {
          "output_type": "execute_result",
          "data": {
            "text/plain": [
              "{1, 2, 3, 4, 5, 6, 7, 8}"
            ]
          },
          "metadata": {
            "tags": []
          },
          "execution_count": 91
        }
      ]
    },
    {
      "cell_type": "markdown",
      "metadata": {
        "id": "-imPGLIHx2ym"
      },
      "source": [
        "### <code>intersection()</code>\n",
        "\n",
        "\n",
        "* <code>intersection()</code> method returns the intersection of two sets\n",
        "\n",
        "\n",
        "* Also denoted by the operator <code>&</code>"
      ]
    },
    {
      "cell_type": "code",
      "metadata": {
        "id": "CEiWFkplx2ym"
      },
      "source": [
        "A = {1, 2, 3, 4, 5}\n",
        "B = {4, 5, 6, 7, 8}"
      ],
      "execution_count": null,
      "outputs": []
    },
    {
      "cell_type": "code",
      "metadata": {
        "id": "1ycxjihUx2yn",
        "colab": {
          "base_uri": "https://localhost:8080/"
        },
        "outputId": "e3a9657a-5ea8-42f6-bc7f-c34ebed9b4c0"
      },
      "source": [
        "A.intersection(B)"
      ],
      "execution_count": null,
      "outputs": [
        {
          "output_type": "execute_result",
          "data": {
            "text/plain": [
              "{4, 5}"
            ]
          },
          "metadata": {
            "tags": []
          },
          "execution_count": 93
        }
      ]
    },
    {
      "cell_type": "code",
      "metadata": {
        "id": "GalM9H1ax2yp",
        "colab": {
          "base_uri": "https://localhost:8080/"
        },
        "outputId": "d6813969-4e66-4482-efd5-fdfb02a128de"
      },
      "source": [
        "# Also denoted by the operator &\n",
        "A & B"
      ],
      "execution_count": null,
      "outputs": [
        {
          "output_type": "execute_result",
          "data": {
            "text/plain": [
              "{4, 5}"
            ]
          },
          "metadata": {
            "tags": []
          },
          "execution_count": 94
        }
      ]
    },
    {
      "cell_type": "markdown",
      "metadata": {
        "id": "nJm-OfZDx2yq"
      },
      "source": [
        "### <code>difference()</code>\n",
        "\n",
        "\n",
        "* <code>difference()</code> method returns the difference of two sets\n",
        "\n",
        "\n",
        "* Difference of the set <code>B</code> from set <code>A</code> i.e, <code>(A - B)</code> is a set of elements that are only in <code>A</code> but not in <code>B</code>\n",
        "\n",
        "\n",
        "* Also denoted by the operator <code>-</code>"
      ]
    },
    {
      "cell_type": "code",
      "metadata": {
        "id": "bggwzeTCx2yq"
      },
      "source": [
        "A = {1, 2, 3, 4, 5}\n",
        "B = {4, 5, 6, 7, 8}"
      ],
      "execution_count": null,
      "outputs": []
    },
    {
      "cell_type": "code",
      "metadata": {
        "id": "wj1pQh3Ex2ys",
        "colab": {
          "base_uri": "https://localhost:8080/"
        },
        "outputId": "0dffad23-0291-4040-92e6-7b8d9d6235eb"
      },
      "source": [
        "A.difference(B)"
      ],
      "execution_count": null,
      "outputs": [
        {
          "output_type": "execute_result",
          "data": {
            "text/plain": [
              "{1, 2, 3}"
            ]
          },
          "metadata": {
            "tags": []
          },
          "execution_count": 96
        }
      ]
    },
    {
      "cell_type": "code",
      "metadata": {
        "id": "0DgHo42ax2yv",
        "colab": {
          "base_uri": "https://localhost:8080/"
        },
        "outputId": "5b1bff82-84a4-4c8f-e14a-1170b9eac11b"
      },
      "source": [
        "# Also denoted by the operator -\n",
        "A - B"
      ],
      "execution_count": null,
      "outputs": [
        {
          "output_type": "execute_result",
          "data": {
            "text/plain": [
              "{1, 2, 3}"
            ]
          },
          "metadata": {
            "tags": []
          },
          "execution_count": 97
        }
      ]
    },
    {
      "cell_type": "code",
      "metadata": {
        "id": "6252HLbjx2yw",
        "colab": {
          "base_uri": "https://localhost:8080/"
        },
        "outputId": "f126d86d-a2b8-4e40-d5b6-e522c04012b7"
      },
      "source": [
        "B.difference(A)"
      ],
      "execution_count": null,
      "outputs": [
        {
          "output_type": "execute_result",
          "data": {
            "text/plain": [
              "{6, 7, 8}"
            ]
          },
          "metadata": {
            "tags": []
          },
          "execution_count": 98
        }
      ]
    },
    {
      "cell_type": "code",
      "metadata": {
        "id": "UXeArQih9-KX",
        "colab": {
          "base_uri": "https://localhost:8080/",
          "height": 34
        },
        "outputId": "acc6f5bd-9467-485b-aa63-180b0ee0bf3b"
      },
      "source": [
        "B - A"
      ],
      "execution_count": null,
      "outputs": [
        {
          "output_type": "execute_result",
          "data": {
            "text/plain": [
              "{6, 7, 8}"
            ]
          },
          "metadata": {
            "tags": []
          },
          "execution_count": 109
        }
      ]
    },
    {
      "cell_type": "markdown",
      "metadata": {
        "id": "syQXm4jBx2yx"
      },
      "source": [
        "### <code>symmetric_difference()</code>\n",
        "\n",
        "\n",
        "* <code>symmetric_difference()</code> method returns the set of elements in A and B but not in both (excluding the intersection)\n",
        "\n",
        "\n",
        "* Also denoted by the operator <code>^</code>"
      ]
    },
    {
      "cell_type": "code",
      "metadata": {
        "id": "EVPLdfe6x2yx"
      },
      "source": [
        "A = {1, 2, 3, 4, 5}\n",
        "B = {4, 5, 6, 7, 8}"
      ],
      "execution_count": null,
      "outputs": []
    },
    {
      "cell_type": "code",
      "metadata": {
        "id": "FLdL9n9nx2yz",
        "colab": {
          "base_uri": "https://localhost:8080/"
        },
        "outputId": "e652c8dd-7fb6-47e2-c016-fbd89191b8df"
      },
      "source": [
        "A.symmetric_difference(B)"
      ],
      "execution_count": null,
      "outputs": [
        {
          "output_type": "execute_result",
          "data": {
            "text/plain": [
              "{1, 2, 3, 6, 7, 8}"
            ]
          },
          "metadata": {
            "tags": []
          },
          "execution_count": 100
        }
      ]
    },
    {
      "cell_type": "code",
      "metadata": {
        "id": "yetEV2k1x2y1",
        "colab": {
          "base_uri": "https://localhost:8080/"
        },
        "outputId": "e173d25a-d88a-4194-d9bd-6c7414570ba4"
      },
      "source": [
        "A^B"
      ],
      "execution_count": null,
      "outputs": [
        {
          "output_type": "execute_result",
          "data": {
            "text/plain": [
              "{1, 2, 3, 6, 7, 8}"
            ]
          },
          "metadata": {
            "tags": []
          },
          "execution_count": 101
        }
      ]
    },
    {
      "cell_type": "markdown",
      "metadata": {
        "id": "wLDBvDUix2y3"
      },
      "source": [
        "# Dictionaries\n",
        "\n",
        "* We've been learning about *sequences* in Python but now we're going to switch gears and learn about *mappings* in Python.\n",
        "\n",
        "\n",
        "* If you're familiar with other languages you can think of these Dictionaries as hash tables.\n",
        "\n",
        "\n",
        "* So what are mappings? Mappings are a collection of objects that are stored by a *key*, unlike a sequence that stored objects by their relative position. This is an important distinction, since mappings won't retain order since they have objects defined by a key.\n",
        "\n",
        "\n",
        "* A Python dictionary consists of a key and then an associated value. That value can be almost any Python object. So a dictionary object always has elements as key-value pairs\n",
        "\n",
        "\n",
        "## Constructing a Dictionary\n",
        "\n",
        "\n",
        "* A dictionary object is constructed using curly braces <code>{key1:value1,key2:value2,key3:value3}</code>"
      ]
    },
    {
      "cell_type": "code",
      "metadata": {
        "id": "IPVt8pQ1x2y4"
      },
      "source": [
        "# Make a dictionary with {} and : to signify a key and a value\n",
        "marvel_dict = {'Name':'Thor','Place':'Asgard','Weapon' : 'Hammer', 1:2, 3 : 'power', 'alibies' : ['Ironman','Captain America'], 'abc' : {1:2, 4:5}}"
      ],
      "execution_count": null,
      "outputs": []
    },
    {
      "cell_type": "code",
      "metadata": {
        "id": "zUigu-Eox2y5",
        "colab": {
          "base_uri": "https://localhost:8080/",
          "height": 34
        },
        "outputId": "b2dde2e8-84f8-47a3-8bcb-428137d122c4"
      },
      "source": [
        "# Call values by their key\n",
        "marvel_dict['Place']"
      ],
      "execution_count": null,
      "outputs": [
        {
          "output_type": "execute_result",
          "data": {
            "application/vnd.google.colaboratory.intrinsic+json": {
              "type": "string"
            },
            "text/plain": [
              "'Asgard'"
            ]
          },
          "metadata": {
            "tags": []
          },
          "execution_count": 104
        }
      ]
    },
    {
      "cell_type": "code",
      "metadata": {
        "colab": {
          "base_uri": "https://localhost:8080/"
        },
        "id": "bQT7_8HqpdmX",
        "outputId": "9f0a793e-98c9-477c-8111-c7a0c47b127d"
      },
      "source": [
        "type(marvel_dict)"
      ],
      "execution_count": null,
      "outputs": [
        {
          "output_type": "execute_result",
          "data": {
            "text/plain": [
              "dict"
            ]
          },
          "metadata": {
            "tags": []
          },
          "execution_count": 106
        }
      ]
    },
    {
      "cell_type": "code",
      "metadata": {
        "id": "JakXpRcqx2y7",
        "colab": {
          "base_uri": "https://localhost:8080/",
          "height": 34
        },
        "outputId": "6a3fca31-74c2-411e-88d2-12ded16c8d69"
      },
      "source": [
        "marvel_dict['Name']"
      ],
      "execution_count": null,
      "outputs": [
        {
          "output_type": "execute_result",
          "data": {
            "application/vnd.google.colaboratory.intrinsic+json": {
              "type": "string"
            },
            "text/plain": [
              "'Thor'"
            ]
          },
          "metadata": {
            "tags": []
          },
          "execution_count": 107
        }
      ]
    },
    {
      "cell_type": "code",
      "metadata": {
        "colab": {
          "base_uri": "https://localhost:8080/",
          "height": 166
        },
        "id": "3VuNvGrQsC1o",
        "outputId": "dece9f36-1357-4d36-f0e5-15be6a904db9"
      },
      "source": [
        "marvel_dict['Random']"
      ],
      "execution_count": null,
      "outputs": [
        {
          "output_type": "error",
          "ename": "KeyError",
          "evalue": "ignored",
          "traceback": [
            "\u001b[0;31m---------------------------------------------------------------------------\u001b[0m",
            "\u001b[0;31mKeyError\u001b[0m                                  Traceback (most recent call last)",
            "\u001b[0;32m<ipython-input-114-9f68b85bbfcd>\u001b[0m in \u001b[0;36m<module>\u001b[0;34m()\u001b[0m\n\u001b[0;32m----> 1\u001b[0;31m \u001b[0mmarvel_dict\u001b[0m\u001b[0;34m[\u001b[0m\u001b[0;34m'Random'\u001b[0m\u001b[0;34m]\u001b[0m\u001b[0;34m\u001b[0m\u001b[0;34m\u001b[0m\u001b[0m\n\u001b[0m",
            "\u001b[0;31mKeyError\u001b[0m: 'Random'"
          ]
        }
      ]
    },
    {
      "cell_type": "code",
      "metadata": {
        "id": "NZwP-63z_k3c",
        "colab": {
          "base_uri": "https://localhost:8080/",
          "height": 35
        },
        "outputId": "6131cc0a-c4d3-492c-fd02-ff512f603b71"
      },
      "source": [
        "marvel_dict['Weapon']"
      ],
      "execution_count": null,
      "outputs": [
        {
          "output_type": "execute_result",
          "data": {
            "application/vnd.google.colaboratory.intrinsic+json": {
              "type": "string"
            },
            "text/plain": [
              "'Hammer'"
            ]
          },
          "metadata": {
            "tags": []
          },
          "execution_count": 116
        }
      ]
    },
    {
      "cell_type": "code",
      "metadata": {
        "id": "lRWRAg0U_0tM",
        "colab": {
          "base_uri": "https://localhost:8080/"
        },
        "outputId": "63d21e84-2ebd-4fa2-8773-dcc306057934"
      },
      "source": [
        "marvel_dict['alibies']"
      ],
      "execution_count": null,
      "outputs": [
        {
          "output_type": "execute_result",
          "data": {
            "text/plain": [
              "['Ironman', 'Captain America']"
            ]
          },
          "metadata": {
            "tags": []
          },
          "execution_count": 108
        }
      ]
    },
    {
      "cell_type": "code",
      "metadata": {
        "id": "e7fpRgtMAaSZ",
        "colab": {
          "base_uri": "https://localhost:8080/",
          "height": 34
        },
        "outputId": "e8f5888d-d7bc-439c-bbd9-3384f9136616"
      },
      "source": [
        "type(marvel_dict['abc'])"
      ],
      "execution_count": null,
      "outputs": [
        {
          "output_type": "execute_result",
          "data": {
            "text/plain": [
              "dict"
            ]
          },
          "metadata": {
            "tags": []
          },
          "execution_count": 124
        }
      ]
    },
    {
      "cell_type": "markdown",
      "metadata": {
        "id": "J44Z9VfMx2y9"
      },
      "source": [
        "## Dictionary Methods"
      ]
    },
    {
      "cell_type": "markdown",
      "metadata": {
        "id": "uL7e7NDox2y9"
      },
      "source": [
        "### <code>keys()</code>\n",
        "\n",
        "\n",
        "* <code>keys()</code> method returns the list of keys in the dictionary object"
      ]
    },
    {
      "cell_type": "code",
      "metadata": {
        "colab": {
          "base_uri": "https://localhost:8080/"
        },
        "id": "d-MXIbRwqcS1",
        "outputId": "c3e05c12-c270-4768-ac60-b5857894cc50"
      },
      "source": [
        "marvel_dict.keys()"
      ],
      "execution_count": null,
      "outputs": [
        {
          "output_type": "execute_result",
          "data": {
            "text/plain": [
              "dict_keys(['Name', 'Place', 'Weapon', 1, 3, 'alibies', 'abc'])"
            ]
          },
          "metadata": {
            "tags": []
          },
          "execution_count": 109
        }
      ]
    },
    {
      "cell_type": "code",
      "metadata": {
        "id": "mRev-noZx2y9",
        "colab": {
          "base_uri": "https://localhost:8080/"
        },
        "outputId": "22b91dbd-02b0-4958-ae9a-c34ca709a143"
      },
      "source": [
        "list(marvel_dict.keys())"
      ],
      "execution_count": null,
      "outputs": [
        {
          "output_type": "execute_result",
          "data": {
            "text/plain": [
              "['Name', 'Place', 'Weapon', 1, 3, 'alibies', 'abc']"
            ]
          },
          "metadata": {
            "tags": []
          },
          "execution_count": 110
        }
      ]
    },
    {
      "cell_type": "markdown",
      "metadata": {
        "id": "tUaGyAtdx2y_"
      },
      "source": [
        "### <code>values()</code>\n",
        "\n",
        "* <code>values()</code> method returns the list of values in the dictionary object"
      ]
    },
    {
      "cell_type": "code",
      "metadata": {
        "id": "phxxN3b2BI21",
        "colab": {
          "base_uri": "https://localhost:8080/"
        },
        "outputId": "58d4d513-196c-4d97-949b-6fb14a2eea64"
      },
      "source": [
        "print(marvel_dict)"
      ],
      "execution_count": null,
      "outputs": [
        {
          "output_type": "stream",
          "text": [
            "{'Name': 'Thor', 'Place': 'Asgard', 'Weapon': 'Hammer', 1: 2, 3: 'power', 'alibies': ['Ironman', 'Captain America'], 'abc': {1: 2, 4: 5}}\n"
          ],
          "name": "stdout"
        }
      ]
    },
    {
      "cell_type": "code",
      "metadata": {
        "id": "18imvm1tx2zA",
        "colab": {
          "base_uri": "https://localhost:8080/"
        },
        "outputId": "58de8eeb-4610-4bda-86e8-77999a4749e3"
      },
      "source": [
        "list(marvel_dict.values())"
      ],
      "execution_count": null,
      "outputs": [
        {
          "output_type": "execute_result",
          "data": {
            "text/plain": [
              "['Thor',\n",
              " 'Asgard',\n",
              " 'Hammer',\n",
              " 2,\n",
              " 'power',\n",
              " ['Ironman', 'Captain America'],\n",
              " {1: 2, 4: 5}]"
            ]
          },
          "metadata": {
            "tags": []
          },
          "execution_count": 112
        }
      ]
    },
    {
      "cell_type": "markdown",
      "metadata": {
        "id": "_nSqsOiax2zB"
      },
      "source": [
        "### <code>items()</code>\n",
        "\n",
        "\n",
        "* <code>items()</code> method returns the list of the keys and values"
      ]
    },
    {
      "cell_type": "code",
      "metadata": {
        "id": "JHqnsUctx2zB",
        "colab": {
          "base_uri": "https://localhost:8080/"
        },
        "outputId": "96aebaa6-aa39-4937-9169-d74aa7677f05"
      },
      "source": [
        "# Get the keys and their corresponding values\n",
        "list(marvel_dict.items())"
      ],
      "execution_count": null,
      "outputs": [
        {
          "output_type": "execute_result",
          "data": {
            "text/plain": [
              "[('Name', 'Thor'),\n",
              " ('Place', 'Asgard'),\n",
              " ('Weapon', 'Hammer'),\n",
              " (1, 2),\n",
              " (3, 'power'),\n",
              " ('alibies', ['Ironman', 'Captain America']),\n",
              " ('abc', {1: 2, 4: 5})]"
            ]
          },
          "metadata": {
            "tags": []
          },
          "execution_count": 113
        }
      ]
    },
    {
      "cell_type": "markdown",
      "metadata": {
        "id": "rOJcYnxYx2zE"
      },
      "source": [
        "* We can also use the <code>get()</code> method to extract a particular value of key-value pair.\n"
      ]
    },
    {
      "cell_type": "code",
      "metadata": {
        "id": "VH3-a6Ykx2zE",
        "colab": {
          "base_uri": "https://localhost:8080/",
          "height": 35
        },
        "outputId": "75d17dce-aff7-42d1-a8cf-b68a7f456357"
      },
      "source": [
        "marvel_dict.get('Place')"
      ],
      "execution_count": null,
      "outputs": [
        {
          "output_type": "execute_result",
          "data": {
            "application/vnd.google.colaboratory.intrinsic+json": {
              "type": "string"
            },
            "text/plain": [
              "'Asgard'"
            ]
          },
          "metadata": {
            "tags": []
          },
          "execution_count": 133
        }
      ]
    },
    {
      "cell_type": "markdown",
      "metadata": {
        "id": "WsRmOWzVx2zG"
      },
      "source": [
        "### <code>get()</code>\n",
        "\n",
        "* <code>get()</code> method takes the key as an argument and returns None if the key is not found in the dictionary.\n",
        "\n",
        "\n",
        "* We can also set the value to return if a key is not found. This will be passed as the second argument in <code>get()</code>"
      ]
    },
    {
      "cell_type": "code",
      "metadata": {
        "id": "hHnXdwNNx2zG",
        "colab": {
          "base_uri": "https://localhost:8080/",
          "height": 34
        },
        "outputId": "1847f09a-7ca5-42cb-c4ee-129c3c5f0245"
      },
      "source": [
        "marvel_dict.get('Place')"
      ],
      "execution_count": null,
      "outputs": [
        {
          "output_type": "execute_result",
          "data": {
            "application/vnd.google.colaboratory.intrinsic+json": {
              "type": "string"
            },
            "text/plain": [
              "'Asgard'"
            ]
          },
          "metadata": {
            "tags": []
          },
          "execution_count": 115
        }
      ]
    },
    {
      "cell_type": "code",
      "metadata": {
        "id": "rAS9es6osPNX"
      },
      "source": [
        "marvel_dict.get('Random')"
      ],
      "execution_count": null,
      "outputs": []
    },
    {
      "cell_type": "code",
      "metadata": {
        "id": "ociIf394sPLE"
      },
      "source": [],
      "execution_count": null,
      "outputs": []
    },
    {
      "cell_type": "code",
      "metadata": {
        "id": "-wqYpb0Ox2zI",
        "colab": {
          "base_uri": "https://localhost:8080/",
          "height": 34
        },
        "outputId": "9c85d11d-5324-448e-f3df-3ca70e1b62af"
      },
      "source": [
        "marvel_dict.get('Random','Not Found')"
      ],
      "execution_count": null,
      "outputs": [
        {
          "output_type": "execute_result",
          "data": {
            "application/vnd.google.colaboratory.intrinsic+json": {
              "type": "string"
            },
            "text/plain": [
              "'Not Found'"
            ]
          },
          "metadata": {
            "tags": []
          },
          "execution_count": 117
        }
      ]
    },
    {
      "cell_type": "code",
      "metadata": {
        "id": "365bYlMJx2zJ",
        "colab": {
          "base_uri": "https://localhost:8080/",
          "height": 166
        },
        "outputId": "539dedbe-6661-4f94-a641-b460549cfc59"
      },
      "source": [
        "marvel_dict['friend']"
      ],
      "execution_count": null,
      "outputs": [
        {
          "output_type": "error",
          "ename": "KeyError",
          "evalue": "ignored",
          "traceback": [
            "\u001b[0;31m---------------------------------------------------------------------------\u001b[0m",
            "\u001b[0;31mKeyError\u001b[0m                                  Traceback (most recent call last)",
            "\u001b[0;32m<ipython-input-118-6d5748fd78c2>\u001b[0m in \u001b[0;36m<module>\u001b[0;34m()\u001b[0m\n\u001b[0;32m----> 1\u001b[0;31m \u001b[0mmarvel_dict\u001b[0m\u001b[0;34m[\u001b[0m\u001b[0;34m'friend'\u001b[0m\u001b[0;34m]\u001b[0m\u001b[0;34m\u001b[0m\u001b[0;34m\u001b[0m\u001b[0m\n\u001b[0m",
            "\u001b[0;31mKeyError\u001b[0m: 'friend'"
          ]
        }
      ]
    },
    {
      "cell_type": "markdown",
      "metadata": {
        "id": "zcMn2Wd-x2zL"
      },
      "source": [
        "Its important to note that dictionaries are very flexible in the data types they can hold. For example:"
      ]
    },
    {
      "cell_type": "code",
      "metadata": {
        "id": "jtF14Xqxx2zL"
      },
      "source": [
        "employee_dict = {'Name':'Sanket','Skills':['Python','Machine Learning','Deep Learning'],'Band':6.0,'Promotion Year':[2016,2018,2020]}"
      ],
      "execution_count": null,
      "outputs": []
    },
    {
      "cell_type": "code",
      "metadata": {
        "id": "TBmOrJKlCx4A",
        "colab": {
          "base_uri": "https://localhost:8080/"
        },
        "outputId": "9c7e9cd5-2d16-4200-858a-b0cca7edaeca"
      },
      "source": [
        "len(employee_dict.keys())"
      ],
      "execution_count": null,
      "outputs": [
        {
          "output_type": "execute_result",
          "data": {
            "text/plain": [
              "4"
            ]
          },
          "metadata": {
            "tags": []
          },
          "execution_count": 120
        }
      ]
    },
    {
      "cell_type": "code",
      "metadata": {
        "id": "_RpBYW0Qx2zM",
        "outputId": "3e97554a-babb-427e-fb9f-fadcf71c6469"
      },
      "source": [
        "# Let's call items from the dictionary\n",
        "employee_dict['Skills']"
      ],
      "execution_count": null,
      "outputs": [
        {
          "output_type": "execute_result",
          "data": {
            "text/plain": [
              "['Python', 'Machine Learning', 'Deep Learning']"
            ]
          },
          "metadata": {
            "tags": []
          },
          "execution_count": 105
        }
      ]
    },
    {
      "cell_type": "code",
      "metadata": {
        "id": "u1mgrdHnx2zN",
        "outputId": "74971364-d5c9-4452-f942-f91911efe91a"
      },
      "source": [
        "# Can call an index on that value\n",
        "employee_dict['Skills'][0]"
      ],
      "execution_count": null,
      "outputs": [
        {
          "output_type": "execute_result",
          "data": {
            "text/plain": [
              "'Python'"
            ]
          },
          "metadata": {
            "tags": []
          },
          "execution_count": 106
        }
      ]
    },
    {
      "cell_type": "code",
      "metadata": {
        "id": "YT7M9CoMx2zP",
        "colab": {
          "base_uri": "https://localhost:8080/",
          "height": 35
        },
        "outputId": "46767cff-fc35-45b6-dabe-a26a47bdb9c5"
      },
      "source": [
        "# Can then even call methods on that value\n",
        "employee_dict['Skills'][0].upper()"
      ],
      "execution_count": null,
      "outputs": [
        {
          "output_type": "execute_result",
          "data": {
            "application/vnd.google.colaboratory.intrinsic+json": {
              "type": "string"
            },
            "text/plain": [
              "'PYTHON'"
            ]
          },
          "metadata": {
            "tags": []
          },
          "execution_count": 143
        }
      ]
    },
    {
      "cell_type": "code",
      "metadata": {
        "id": "dcEo2ZqSx2zQ"
      },
      "source": [
        "# Add a new key\n",
        "\n",
        "employee_dict['Designation'] ='Senior Data Scientist'"
      ],
      "execution_count": null,
      "outputs": []
    },
    {
      "cell_type": "code",
      "metadata": {
        "id": "I_VxhEd_x2zR",
        "colab": {
          "base_uri": "https://localhost:8080/",
          "height": 101
        },
        "outputId": "5420111b-032b-4c61-acfa-4d0cfab6fa09"
      },
      "source": [
        "employee_dict"
      ],
      "execution_count": null,
      "outputs": [
        {
          "output_type": "execute_result",
          "data": {
            "text/plain": [
              "{'Band': 6.0,\n",
              " 'Designation': 'Senior Data Scientist',\n",
              " 'Name': 'Sanket',\n",
              " 'Promotion Year': [2016, 2018, 2020],\n",
              " 'Skills': ['Python', 'Machine Learning', 'Deep Learning']}"
            ]
          },
          "metadata": {
            "tags": []
          },
          "execution_count": 145
        }
      ]
    },
    {
      "cell_type": "markdown",
      "metadata": {
        "id": "KdEUV4J3x2zT"
      },
      "source": [
        "### <code>update()</code>\n",
        "\n",
        "* You can add an element which is a key-value pair using the <code>update()</code> method\n",
        "\n",
        "* This method takes a dictionary as an argument"
      ]
    },
    {
      "cell_type": "code",
      "metadata": {
        "id": "FEGkoCDBx2zT"
      },
      "source": [
        "employee_dict.update({'Salary':'2,000,000'})"
      ],
      "execution_count": null,
      "outputs": []
    },
    {
      "cell_type": "code",
      "metadata": {
        "id": "MzCAighVx2zW",
        "colab": {
          "base_uri": "https://localhost:8080/"
        },
        "outputId": "3d73bef8-d7a6-4676-d67b-1689eadcb0f5"
      },
      "source": [
        "employee_dict"
      ],
      "execution_count": null,
      "outputs": [
        {
          "output_type": "execute_result",
          "data": {
            "text/plain": [
              "{'Band': 6.0,\n",
              " 'Name': 'Sanket',\n",
              " 'Promotion Year': [2016, 2018, 2020],\n",
              " 'Salary': '2,000,000',\n",
              " 'Skills': ['Python', 'Machine Learning', 'Deep Learning']}"
            ]
          },
          "metadata": {
            "tags": []
          },
          "execution_count": 122
        }
      ]
    },
    {
      "cell_type": "markdown",
      "metadata": {
        "id": "vUSkFO6mx2zY"
      },
      "source": [
        "* We can also use the <code>update()</code> method to update the existing values for a key"
      ]
    },
    {
      "cell_type": "code",
      "metadata": {
        "id": "l1DZu6X9x2zY"
      },
      "source": [
        "employee_dict.update({'Name' : 'Varun Saini'})"
      ],
      "execution_count": null,
      "outputs": []
    },
    {
      "cell_type": "code",
      "metadata": {
        "id": "XEqfvHmxx2zb",
        "colab": {
          "base_uri": "https://localhost:8080/"
        },
        "outputId": "6280ec21-e106-4337-d012-269ddd767920"
      },
      "source": [
        "employee_dict"
      ],
      "execution_count": null,
      "outputs": [
        {
          "output_type": "execute_result",
          "data": {
            "text/plain": [
              "{'Band': 6.0,\n",
              " 'Name': 'Varun Saini',\n",
              " 'Promotion Year': [2016, 2018, 2020],\n",
              " 'Salary': '2,000,000',\n",
              " 'Skills': ['Python', 'Machine Learning', 'Deep Learning']}"
            ]
          },
          "metadata": {
            "tags": []
          },
          "execution_count": 124
        }
      ]
    },
    {
      "cell_type": "markdown",
      "metadata": {
        "id": "xxQn8kbMx2zc"
      },
      "source": [
        "* We can affect the values of a key as well without the <code>update()</code> method"
      ]
    },
    {
      "cell_type": "code",
      "metadata": {
        "id": "-mEWWbYKx2zc",
        "colab": {
          "base_uri": "https://localhost:8080/",
          "height": 34
        },
        "outputId": "4deaeea1-2ea1-41a8-d451-6fbbac254d59"
      },
      "source": [
        "employee_dict['Name']"
      ],
      "execution_count": null,
      "outputs": [
        {
          "output_type": "execute_result",
          "data": {
            "application/vnd.google.colaboratory.intrinsic+json": {
              "type": "string"
            },
            "text/plain": [
              "'Varun Saini'"
            ]
          },
          "metadata": {
            "tags": []
          },
          "execution_count": 125
        }
      ]
    },
    {
      "cell_type": "code",
      "metadata": {
        "id": "qichUeBNx2zf"
      },
      "source": [
        "# Subtract 123 from the value\n",
        "employee_dict['Name'] = employee_dict['Name'] + ' ' + 'Raj'"
      ],
      "execution_count": null,
      "outputs": []
    },
    {
      "cell_type": "code",
      "metadata": {
        "id": "z9grCvhxx2zg",
        "colab": {
          "base_uri": "https://localhost:8080/"
        },
        "outputId": "457cbdea-6ca6-4ecf-aafe-c2c57dbd8663"
      },
      "source": [
        "#Check\n",
        "employee_dict"
      ],
      "execution_count": null,
      "outputs": [
        {
          "output_type": "execute_result",
          "data": {
            "text/plain": [
              "{'Band': 6.0,\n",
              " 'Name': 'Varun Saini Raj',\n",
              " 'Promotion Year': [2016, 2018, 2020],\n",
              " 'Salary': '2,000,000',\n",
              " 'Skills': ['Python', 'Machine Learning', 'Deep Learning']}"
            ]
          },
          "metadata": {
            "tags": []
          },
          "execution_count": 127
        }
      ]
    },
    {
      "cell_type": "markdown",
      "metadata": {
        "id": "Rnlnm59rx2zi"
      },
      "source": [
        "### <code>dict()</code>\n",
        "\n",
        "\n",
        "* We can also create dictionary objects from sequence of items which are pairs. This is done using the <code>dict()</code>method\n",
        "\n",
        "\n",
        "*  <code>dict()</code> function takes the list of paired elements as argument"
      ]
    },
    {
      "cell_type": "code",
      "metadata": {
        "id": "JSOCmifNV_ht"
      },
      "source": [
        "country_list = ['India','Australia','United States','England']\n",
        "city_list = ['New Delhi', 'Canberra' , 'Washington DC','London']"
      ],
      "execution_count": null,
      "outputs": []
    },
    {
      "cell_type": "code",
      "metadata": {
        "id": "mviLZSi0WSuK"
      },
      "source": [
        "country_city_list = list(zip(country_list,city_list))"
      ],
      "execution_count": null,
      "outputs": []
    },
    {
      "cell_type": "code",
      "metadata": {
        "colab": {
          "base_uri": "https://localhost:8080/"
        },
        "id": "o_whSlhOWZgG",
        "outputId": "a9fbb0f6-8290-453c-d978-c646861d195a"
      },
      "source": [
        "country_city_list"
      ],
      "execution_count": null,
      "outputs": [
        {
          "output_type": "execute_result",
          "data": {
            "text/plain": [
              "[('India', 'New Delhi'),\n",
              " ('Australia', 'Canberra'),\n",
              " ('United States', 'Washington DC'),\n",
              " ('England', 'London')]"
            ]
          },
          "metadata": {
            "tags": []
          },
          "execution_count": 3
        }
      ]
    },
    {
      "cell_type": "code",
      "metadata": {
        "colab": {
          "base_uri": "https://localhost:8080/"
        },
        "id": "vUdlGah7Wcu8",
        "outputId": "5b28d5ca-001e-4dbf-d8a0-487f42c8a016"
      },
      "source": [
        "dict(country_city_list)"
      ],
      "execution_count": null,
      "outputs": [
        {
          "output_type": "execute_result",
          "data": {
            "text/plain": [
              "{'Australia': 'Canberra',\n",
              " 'England': 'London',\n",
              " 'India': 'New Delhi',\n",
              " 'United States': 'Washington DC'}"
            ]
          },
          "metadata": {
            "tags": []
          },
          "execution_count": 4
        }
      ]
    },
    {
      "cell_type": "code",
      "metadata": {
        "id": "vq5EXr2ex2zi"
      },
      "source": [
        "# Let us create a list of paired tuples\n",
        "country_city_tuples = [('India','New Delhi'),('Australia','Canberra'),('United States','Washington DC'),('England','London')]"
      ],
      "execution_count": null,
      "outputs": []
    },
    {
      "cell_type": "code",
      "metadata": {
        "id": "-6ObV-KFx2zj"
      },
      "source": [
        "country_city_dict = dict(country_city_tuples)"
      ],
      "execution_count": null,
      "outputs": []
    },
    {
      "cell_type": "code",
      "metadata": {
        "id": "CQRGpNXJx2zk",
        "colab": {
          "base_uri": "https://localhost:8080/",
          "height": 84
        },
        "outputId": "30831acd-a584-4e8d-9597-bc9f6fe609be"
      },
      "source": [
        "country_city_dict"
      ],
      "execution_count": null,
      "outputs": [
        {
          "output_type": "execute_result",
          "data": {
            "text/plain": [
              "{'Australia': 'Canberra',\n",
              " 'England': 'London',\n",
              " 'India': 'New Delhi',\n",
              " 'United States': 'Washington DC'}"
            ]
          },
          "metadata": {
            "tags": []
          },
          "execution_count": 154
        }
      ]
    },
    {
      "cell_type": "markdown",
      "metadata": {
        "id": "IC5NCQkmx2zl"
      },
      "source": [
        "### <code>pop()</code>\n",
        "\n",
        "\n",
        "* <code>pop()</code> method removes and returns an element from a dictionary having the given key.\n",
        "\n",
        "* This method takes two arguments/parameters (i) key - key which is to be searched for removal, (ii) default - value which is to be returned when the key is not in the dictionary"
      ]
    },
    {
      "cell_type": "code",
      "metadata": {
        "colab": {
          "base_uri": "https://localhost:8080/",
          "height": 34
        },
        "id": "bGVEztzUuoNk",
        "outputId": "904259f2-cd68-4048-ad59-4d74b766b649"
      },
      "source": [
        "country_city_dict.pop('England')"
      ],
      "execution_count": null,
      "outputs": [
        {
          "output_type": "execute_result",
          "data": {
            "application/vnd.google.colaboratory.intrinsic+json": {
              "type": "string"
            },
            "text/plain": [
              "'London'"
            ]
          },
          "metadata": {
            "tags": []
          },
          "execution_count": 131
        }
      ]
    },
    {
      "cell_type": "code",
      "metadata": {
        "id": "IPNFmS9lusRR",
        "colab": {
          "base_uri": "https://localhost:8080/"
        },
        "outputId": "64230f71-0f8d-4774-e43a-bee3daca61d5"
      },
      "source": [
        "country_city_dict"
      ],
      "execution_count": null,
      "outputs": [
        {
          "output_type": "execute_result",
          "data": {
            "text/plain": [
              "{'Australia': 'Canberra',\n",
              " 'India': 'New Delhi',\n",
              " 'United States': 'Washington DC'}"
            ]
          },
          "metadata": {
            "tags": []
          },
          "execution_count": 132
        }
      ]
    },
    {
      "cell_type": "code",
      "metadata": {
        "id": "r6NkuEnlx2zl"
      },
      "source": [
        "element_to_pop = country_city_dict.pop('England')"
      ],
      "execution_count": null,
      "outputs": []
    },
    {
      "cell_type": "code",
      "metadata": {
        "id": "9qxKp-iBx2zn",
        "colab": {
          "base_uri": "https://localhost:8080/",
          "height": 35
        },
        "outputId": "ba56f62f-d84e-49e7-eb2d-0582283bc52b"
      },
      "source": [
        "element_to_pop"
      ],
      "execution_count": null,
      "outputs": [
        {
          "output_type": "execute_result",
          "data": {
            "application/vnd.google.colaboratory.intrinsic+json": {
              "type": "string"
            },
            "text/plain": [
              "'London'"
            ]
          },
          "metadata": {
            "tags": []
          },
          "execution_count": 156
        }
      ]
    },
    {
      "cell_type": "code",
      "metadata": {
        "id": "_1kPkAHwx2zo",
        "colab": {
          "base_uri": "https://localhost:8080/",
          "height": 67
        },
        "outputId": "2b95010e-d82b-49d6-99df-3270460a19c6"
      },
      "source": [
        "country_city_dict"
      ],
      "execution_count": null,
      "outputs": [
        {
          "output_type": "execute_result",
          "data": {
            "text/plain": [
              "{'Australia': 'Canberra',\n",
              " 'India': 'New Delhi',\n",
              " 'United States': 'Washington DC'}"
            ]
          },
          "metadata": {
            "tags": []
          },
          "execution_count": 157
        }
      ]
    },
    {
      "cell_type": "markdown",
      "metadata": {
        "id": "M2AfPxHSx2zp"
      },
      "source": [
        "### We can use the <code>zip()</code> and <code>dict()</code> methods to create a dictionary object from two lists"
      ]
    },
    {
      "cell_type": "code",
      "metadata": {
        "id": "2x3V4Ew2x2zp"
      },
      "source": [
        "name = [\"Manjeet\", \"Nikhil\", \"Shambhavi\"]\n",
        "marks = [40, 50, 60]"
      ],
      "execution_count": null,
      "outputs": []
    },
    {
      "cell_type": "code",
      "metadata": {
        "id": "ARSqMR2Yx2zq"
      },
      "source": [
        "mapped = zip(name, marks)"
      ],
      "execution_count": null,
      "outputs": []
    },
    {
      "cell_type": "code",
      "metadata": {
        "id": "j_qa801mx2zs",
        "outputId": "e11019b6-9f4e-42d0-81d0-66c90bfc92d8"
      },
      "source": [
        "mapped"
      ],
      "execution_count": null,
      "outputs": [
        {
          "output_type": "execute_result",
          "data": {
            "text/plain": [
              "<zip at 0x243cb83f988>"
            ]
          },
          "metadata": {
            "tags": []
          },
          "execution_count": 141
        }
      ]
    },
    {
      "cell_type": "code",
      "metadata": {
        "id": "KOegPhIOx2zu",
        "outputId": "e50bf1ff-44c8-40b0-cdac-5edaeeea833a"
      },
      "source": [
        "print(dict(mapped))"
      ],
      "execution_count": null,
      "outputs": [
        {
          "output_type": "stream",
          "text": [
            "{'Manjeet': 40, 'Nikhil': 50, 'Shambhavi': 60}\n"
          ],
          "name": "stdout"
        }
      ]
    },
    {
      "cell_type": "code",
      "metadata": {
        "id": "vVYMZn_Cx2zv"
      },
      "source": [
        "name = [\"Manjeet\", \"Nikhil\", \"Shambhavi\"]\n",
        "marks = [40, 50, 60,80]"
      ],
      "execution_count": null,
      "outputs": []
    },
    {
      "cell_type": "code",
      "metadata": {
        "id": "cJpurERkx2zw"
      },
      "source": [
        "mapped = zip(name, marks)"
      ],
      "execution_count": null,
      "outputs": []
    },
    {
      "cell_type": "code",
      "metadata": {
        "id": "huwhblKwx2zz",
        "outputId": "d1d39441-6ae1-490c-c6a9-46cb9f556524"
      },
      "source": [
        "print(dict(mapped))"
      ],
      "execution_count": null,
      "outputs": [
        {
          "output_type": "stream",
          "text": [
            "{'Manjeet': 40, 'Nikhil': 50, 'Shambhavi': 60}\n"
          ],
          "name": "stdout"
        }
      ]
    }
  ]
}